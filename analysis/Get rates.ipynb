{
 "cells": [
  {
   "cell_type": "code",
   "execution_count": 14,
   "id": "0e61900c-5940-4326-84be-7eff5ae0407c",
   "metadata": {
    "tags": []
   },
   "outputs": [],
   "source": [
    "import pandas as pd\n",
    "import requests\n",
    "import time"
   ]
  },
  {
   "cell_type": "code",
   "execution_count": 15,
   "id": "c08a2481-3b17-4692-a158-0a8087b4e294",
   "metadata": {
    "tags": []
   },
   "outputs": [],
   "source": [
    "BEARER_TOKEN = \"eyJraWQiOiJGRW1XVEhGOUhcL3FiSGJJbExLVGFQY2NDXC9tWG4rcDVFV3RQeDJaQWsrXC84PSIsImFsZyI6IlJTMjU2In0.eyJzdWIiOiI5NGViODA0NC05MWUzLTRhMmQtOWU4My1kZmQ3N2Q5N2YwNmYiLCJjdXN0b206cm9sZXMiOiJCUk9LRVIiLCJlbWFpbF92ZXJpZmllZCI6dHJ1ZSwiYnVzaW5lc3NfaWRlbnRpZmllciI6IkFFX0hVU1BZIiwiaXNzIjoiaHR0cHM6XC9cL2NvZ25pdG8taWRwLmV1LWNlbnRyYWwtMS5hbWF6b25hd3MuY29tXC9ldS1jZW50cmFsLTFfS1BQS1c5QW1IIiwiY29nbml0bzp1c2VybmFtZSI6ImE4NWM5ZWI0LWY0MTAtNDk5MS1iNzg5LWFkZWM3YjQ4YjI3YyIsIm9yaWdpbl9qdGkiOiI3NGI0YTAxMi1jN2U1LTQ4N2QtYWYyYy1mYWI4NDAzYzViODUiLCJhdWQiOiIxbmdxNzJiOGkxbzlyOWZrdXFoYnNwajR1NiIsImN1c3RvbTpsYXN0X25hbWUiOiJDaGVubmFvdWkiLCJldmVudF9pZCI6IjU0NDg5ZWU3LWE0OWMtNDdlMy1hY2QyLWY0MWQ4MjAzMzEwNSIsImN1c3RvbTpmaXJzdF9uYW1lIjoiUnltIiwidG9rZW5fdXNlIjoiaWQiLCJhdXRoX3RpbWUiOjE3NTEyNjEwNjksImNsYWltcyI6IntcInByb3Bvc2Fsc1wiOntcImNvbXBhbnlfaWRcIjpcImRiMGZkYmU3LTVlYjQtNDM0Yi1hNTFkLTBjZmM3MWFkMTNiMVwifSxcImNyZWRpdHNcIjp7XCJhY2NvdW50X2lkXCI6XCJkYjBmZGJlNy01ZWI0LTQzNGItYTUxZC0wY2ZjNzFhZDEzYjFcIn0sXCJwYXltZW50c1wiOntcImN1c3RvbWVyX2lkXCI6XCJkYjBmZGJlNy01ZWI0LTQzNGItYTUxZC0wY2ZjNzFhZDEzYjFcIn0sXCJjbGllbnRzXCI6e1wiY29tcGFueV9pZFwiOlwiZGIwZmRiZTctNWViNC00MzRiLWE1MWQtMGNmYzcxYWQxM2IxXCIsXCJyb2xlc1wiOltcImJyb2tlclwiXX19IiwicGhvbmVfbnVtYmVyIjoiKzk3MTUwMTExMzkxNCIsImV4cCI6MTc1MjIzNzU1MiwiaWF0IjoxNzUyMTUxMTUyLCJqdGkiOiI2NmNhYTljYi1hMWUzLTQwOTgtYjJiNi0zYTRhNWQ0ZjFiNGMiLCJlbWFpbCI6InJ5bUBsZW5kZG9vLmNvbSJ9.4dTRb7YJEBNLOxlvkPoTruD9kPeCXR7lHQy_xUBXP56T0zSm-OhkWkTUuoDDHyw-s0V82dnD6DHdzRZHZ8s60oy34yB_PO9hfFLjjXzEXkACzHdC0m6auPgbspvtWPJqW1LLS94YRsC6eHINmjbUZMnJ3jPnvBUn0JteVAEa3rVD82Jl0VojZX6XMnPz6bciMgra4RzFdCok93RISg6DWxDUVnQbqqfFZ7vQwxuDRjKvYZ1Scfan9EKUNaXnTfGMTORABV-CgYmbQRf_xWjZlcBatdE9ZTb33lSx_8R1QI_tqFwx1mr9DPSnHKxGJmmrq_iaZkVpzP_4GFKX1ZdoPA\"\n",
    "headers = {\n",
    "    \"Authorization\": f\"Bearer {BEARER_TOKEN}\",\n",
    "    \"Content-Type\": \"application/json\", # Often good practice to specify\n",
    "    \"Accept\": \"application/json\"       # What kind of response you prefer\n",
    "}"
   ]
  },
  {
   "cell_type": "code",
   "execution_count": 29,
   "id": "f71b343c-ddb4-4730-924f-28d96e63a66d",
   "metadata": {
    "tags": []
   },
   "outputs": [],
   "source": [
    "df = pd.DataFrame()\n",
    "k = 10\n",
    "for _ in range(0,2340, 10):\n",
    "    print(k)\n",
    "    url = f\"https://huspy.com/backend/api/v2/banks/bank_products?offset={k}&status_type=1&financed_fee_amount=0\"\n",
    "    response = requests.get(url, headers=headers)\n",
    "    sub_df = pd.DataFrame(response.json().get('results'))\n",
    "    df = pd.concat([df, sub_df])\n",
    "    time.sleep(1)\n",
    "    k += 10\n",
    "df = df.reset_index()  "
   ]
  },
  {
   "cell_type": "code",
   "execution_count": 31,
   "id": "a92dc043-261a-4971-90fe-f85fe417947a",
   "metadata": {
    "tags": []
   },
   "outputs": [],
   "source": [
    "col = ['index','id','external_id','bank_external_id','bank_logo','icon']\n",
    "df = df.drop(col, axis=1)\n",
    "df.to_csv('rates.csv', index=False)"
   ]
  },
  {
   "cell_type": "code",
   "execution_count": null,
   "id": "82ecb0cd-2365-4836-83f3-8be6667885ea",
   "metadata": {},
   "outputs": [],
   "source": []
  }
 ],
 "metadata": {
  "kernelspec": {
   "display_name": "Python 3 (ipykernel)",
   "language": "python",
   "name": "python3"
  },
  "language_info": {
   "codemirror_mode": {
    "name": "ipython",
    "version": 3
   },
   "file_extension": ".py",
   "mimetype": "text/x-python",
   "name": "python",
   "nbconvert_exporter": "python",
   "pygments_lexer": "ipython3",
   "version": "3.11.4"
  }
 },
 "nbformat": 4,
 "nbformat_minor": 5
}
